{
  "cells": [
    {
      "cell_type": "markdown",
      "id": "b81b2118",
      "metadata": {
        "id": "b81b2118"
      },
      "source": [
        "# Credit Card Fraud Detection\n",
        "\n",
        "\n"
      ]
    },
    {
      "cell_type": "markdown",
      "id": "ad5ccb9f",
      "metadata": {
        "id": "ad5ccb9f"
      },
      "source": [
        "## 1. Setup\n",
        "\n",
        "Installing the required packages."
      ]
    },
    {
      "cell_type": "code",
      "execution_count": 17,
      "id": "972985cc",
      "metadata": {
        "id": "972985cc"
      },
      "outputs": [],
      "source": [
        "import sys\n",
        "!{sys.executable} -m pip install --quiet scikit-learn pandas matplotlib seaborn imbalanced-learn xgboost"
      ]
    },
    {
      "cell_type": "markdown",
      "id": "127c608b",
      "metadata": {
        "id": "127c608b"
      },
      "source": [
        "## 2. Load Data\n",
        "\n",
        "Load the dataset and show basic shape and class distribution."
      ]
    },
    {
      "cell_type": "code",
      "execution_count": 18,
      "id": "fa3f09db",
      "metadata": {
        "colab": {
          "base_uri": "https://localhost:8080/"
        },
        "id": "fa3f09db",
        "outputId": "22bb0493-1029-4310-ad91-a7265ac36208"
      },
      "outputs": [
        {
          "output_type": "stream",
          "name": "stdout",
          "text": [
            "Shape: (284807, 31)\n",
            "\n",
            "Class counts:\n",
            "Class\n",
            "0    284315\n",
            "1       492\n",
            "Name: count, dtype: int64\n",
            "\n",
            "Class distribution (%):\n",
            "Class\n",
            "0    99.827251\n",
            "1     0.172749\n",
            "Name: proportion, dtype: float64\n"
          ]
        }
      ],
      "source": [
        "import pandas as pd\n",
        "\n",
        "df = pd.read_csv('/content/drive/MyDrive/Data_Projects/Data/creditcard.csv')\n",
        "print('Shape:', df.shape)\n",
        "print('\\nClass counts:')\n",
        "print(df['Class'].value_counts())\n",
        "print('\\nClass distribution (%):')\n",
        "print(df['Class'].value_counts(normalize=True) * 100)"
      ]
    },
    {
      "cell_type": "markdown",
      "id": "37fab375",
      "metadata": {
        "id": "37fab375"
      },
      "source": [
        "## 3. Missing Values and Basic Stats\n",
        "\n",
        "Check for missing values and show statistics for `Amount` and `Time`."
      ]
    },
    {
      "cell_type": "code",
      "execution_count": 6,
      "id": "f10878de",
      "metadata": {
        "colab": {
          "base_uri": "https://localhost:8080/"
        },
        "id": "f10878de",
        "outputId": "819da355-e147-406f-8b77-4fdc83c617cc"
      },
      "outputs": [
        {
          "output_type": "stream",
          "name": "stdout",
          "text": [
            "Missing values per column:\n",
            "Time      0\n",
            "V1        0\n",
            "V2        0\n",
            "V3        0\n",
            "V4        0\n",
            "V5        0\n",
            "V6        0\n",
            "V7        0\n",
            "V8        0\n",
            "V9        0\n",
            "V10       0\n",
            "V11       0\n",
            "V12       0\n",
            "V13       0\n",
            "V14       0\n",
            "V15       0\n",
            "V16       0\n",
            "V17       0\n",
            "V18       0\n",
            "V19       0\n",
            "V20       0\n",
            "V21       0\n",
            "V22       0\n",
            "V23       0\n",
            "V24       0\n",
            "V25       0\n",
            "V26       0\n",
            "V27       0\n",
            "V28       0\n",
            "Amount    0\n",
            "Class     0\n",
            "dtype: int64\n",
            "\n",
            "Amount and Time statistics:\n",
            "              Amount           Time\n",
            "count  284807.000000  284807.000000\n",
            "mean       88.349619   94813.859575\n",
            "std       250.120109   47488.145955\n",
            "min         0.000000       0.000000\n",
            "25%         5.600000   54201.500000\n",
            "50%        22.000000   84692.000000\n",
            "75%        77.165000  139320.500000\n",
            "max     25691.160000  172792.000000\n"
          ]
        }
      ],
      "source": [
        "print('Missing values per column:')\n",
        "print(df.isnull().sum())\n",
        "print('\\nAmount and Time statistics:')\n",
        "print(df[['Amount','Time']].describe())"
      ]
    },
    {
      "cell_type": "markdown",
      "id": "3a6475d8",
      "metadata": {
        "id": "3a6475d8"
      },
      "source": [
        "## 4. Exploratory Data Analysis (EDA)\n",
        "\n",
        "Plot overall amount distribution and fraud vs legit amount distribution."
      ]
    },
    {
      "cell_type": "code",
      "execution_count": 7,
      "id": "245d77a3",
      "metadata": {
        "colab": {
          "base_uri": "https://localhost:8080/",
          "height": 410
        },
        "id": "245d77a3",
        "outputId": "88393610-be1b-47b4-f4ed-a4be6f3dec5f"
      },
      "outputs": [
        {
          "output_type": "display_data",
          "data": {
            "text/plain": [
              "<Figure size 1000x400 with 1 Axes>"
            ],
            "image/png": "[encoded data removed]"
          },
          "metadata": {}
        }
      ],
      "source": [
        "import matplotlib.pyplot as plt\n",
        "import seaborn as sns\n",
        "\n",
        "plt.figure(figsize=(10,4))\n",
        "sns.histplot(df['Amount'], bins=50)\n",
        "plt.title('Transaction Amount Distribution')\n",
        "plt.xlabel('Amount (Euros)')\n",
        "plt.ylabel('Frequency')\n",
        "plt.yscale('log')\n",
        "plt.show()"
      ]
    },
    {
      "cell_type": "code",
      "execution_count": 8,
      "id": "1ad8d001",
      "metadata": {
        "colab": {
          "base_uri": "https://localhost:8080/",
          "height": 410
        },
        "id": "1ad8d001",
        "outputId": "596699c5-e117-4299-da7e-a95a830bc859"
      },
      "outputs": [
        {
          "output_type": "display_data",
          "data": {
            "text/plain": [
              "<Figure size 1000x400 with 1 Axes>"
            ],
            "image/png": "[encoded data removed]"
          },
          "metadata": {}
        }
      ],
      "source": [
        "fraud = df[df['Class'] == 1]\n",
        "legit = df[df['Class'] == 0]\n",
        "\n",
        "plt.figure(figsize=(10,4))\n",
        "sns.histplot(legit['Amount'], bins=50, label='Legit', alpha=0.6)\n",
        "sns.histplot(fraud['Amount'], bins=50, label='Fraud', alpha=0.6)\n",
        "plt.title('Amount: Fraud vs Legit')\n",
        "plt.xlabel('Amount (Euros)')\n",
        "plt.ylabel('Frequency (log scale)')\n",
        "plt.yscale('log')\n",
        "plt.legend()\n",
        "plt.show()"
      ]
    },
    {
      "cell_type": "markdown",
      "id": "76aad297",
      "metadata": {
        "id": "76aad297"
      },
      "source": [
        "## 5. Time Analysis\n",
        "\n",
        "Convert `Time` (seconds since first transaction) to hour of day and plot hourly distribution for fraud vs legit."
      ]
    },
    {
      "cell_type": "code",
      "execution_count": 10,
      "id": "d5b769be",
      "metadata": {
        "colab": {
          "base_uri": "https://localhost:8080/",
          "height": 410
        },
        "id": "d5b769be",
        "outputId": "d040d132-75d3-4ab9-af46-162806761cb5"
      },
      "outputs": [
        {
          "output_type": "display_data",
          "data": {
            "text/plain": [
              "<Figure size 1200x400 with 1 Axes>"
            ],
            "image/png": "[encoded data removed]"
          },
          "metadata": {}
        }
      ],
      "source": [
        "df['Hour'] = (df['Time'] // 3600) % 24\n",
        "\n",
        "fraud = df[df['Class'] == 1]\n",
        "legit = df[df['Class'] == 0]\n",
        "\n",
        "plt.figure(figsize=(12,4))\n",
        "plt.hist(legit['Hour'], bins=24, alpha=0.6, label='Legit')\n",
        "plt.hist(fraud['Hour'], bins=24, alpha=0.6, label='Fraud')\n",
        "plt.title('Transactions by Hour of Day: Fraud vs Legit')\n",
        "plt.xlabel('Hour of Day')\n",
        "plt.ylabel('Count')\n",
        "plt.legend()\n",
        "plt.show()"
      ]
    },
    {
      "cell_type": "markdown",
      "id": "a891b47a",
      "metadata": {
        "id": "a891b47a"
      },
      "source": [
        "## 6. Preprocessing\n",
        "\n",
        "Scale `Time` and `Amount`. Prepare features and labels."
      ]
    },
    {
      "cell_type": "code",
      "execution_count": 11,
      "id": "e004b66b",
      "metadata": {
        "colab": {
          "base_uri": "https://localhost:8080/"
        },
        "id": "e004b66b",
        "outputId": "cf386d38-1605-4685-e96d-ced764aa811d"
      },
      "outputs": [
        {
          "output_type": "stream",
          "name": "stdout",
          "text": [
            "Feature shape: (284807, 31)\n",
            "Label shape: (284807,)\n"
          ]
        }
      ],
      "source": [
        "from sklearn.preprocessing import StandardScaler\n",
        "\n",
        "X = df.drop(columns=['Class'])\n",
        "y = df['Class'].values\n",
        "\n",
        "scaler = StandardScaler()\n",
        "X[['Time','Amount']] = scaler.fit_transform(X[['Time','Amount']])\n",
        "\n",
        "print('Feature shape:', X.shape)\n",
        "print('Label shape:', y.shape)"
      ]
    },
    {
      "cell_type": "markdown",
      "id": "1ed63bdd",
      "metadata": {
        "id": "1ed63bdd"
      },
      "source": [
        "## 7. Train / Test Split\n",
        "\n",
        "Here I just create a stratified split to keep class proportions."
      ]
    },
    {
      "cell_type": "code",
      "execution_count": 12,
      "id": "df253a4e",
      "metadata": {
        "colab": {
          "base_uri": "https://localhost:8080/"
        },
        "id": "df253a4e",
        "outputId": "f286242a-c6db-41f8-f448-477dc7d97515"
      },
      "outputs": [
        {
          "output_type": "stream",
          "name": "stdout",
          "text": [
            "Train shape: (227845, 31)\n",
            "Test shape: (56962, 31)\n"
          ]
        }
      ],
      "source": [
        "from sklearn.model_selection import train_test_split\n",
        "\n",
        "X_train, X_test, y_train, y_test = train_test_split(X, y, test_size=0.2, stratify=y, random_state=42)\n",
        "print('Train shape:', X_train.shape)\n",
        "print('Test shape:', X_test.shape)"
      ]
    },
    {
      "cell_type": "markdown",
      "id": "f4ecf9e5",
      "metadata": {
        "id": "f4ecf9e5"
      },
      "source": [
        "## 8. Baseline Model: Logistic Regression\n",
        "\n"
      ]
    },
    {
      "cell_type": "code",
      "execution_count": 13,
      "id": "8f305c35",
      "metadata": {
        "colab": {
          "base_uri": "https://localhost:8080/"
        },
        "id": "8f305c35",
        "outputId": "f4002cbe-e5cf-476c-8a2a-243110e1554d"
      },
      "outputs": [
        {
          "output_type": "stream",
          "name": "stdout",
          "text": [
            "Logistic Regression PR AUC: 0.7692\n",
            "\n",
            "Classification report (threshold 0.5):\n",
            "              precision    recall  f1-score   support\n",
            "\n",
            "           0       1.00      0.97      0.99     56864\n",
            "           1       0.06      0.91      0.11        98\n",
            "\n",
            "    accuracy                           0.97     56962\n",
            "   macro avg       0.53      0.94      0.55     56962\n",
            "weighted avg       1.00      0.97      0.99     56962\n",
            "\n"
          ]
        }
      ],
      "source": [
        "from sklearn.linear_model import LogisticRegression\n",
        "from sklearn.metrics import precision_recall_curve, auc, classification_report\n",
        "\n",
        "lr = LogisticRegression(max_iter=1000, class_weight='balanced', solver='liblinear')\n",
        "lr.fit(X_train, y_train)\n",
        "\n",
        "y_prob_lr = lr.predict_proba(X_test)[:,1]\n",
        "precision_lr, recall_lr, _ = precision_recall_curve(y_test, y_prob_lr)\n",
        "pr_auc_lr = auc(recall_lr, precision_lr)\n",
        "\n",
        "print('Logistic Regression PR AUC:', round(pr_auc_lr, 4))\n",
        "print('\\nClassification report (threshold 0.5):')\n",
        "print(classification_report(y_test, lr.predict(X_test)))"
      ]
    },
    {
      "cell_type": "markdown",
      "id": "0899971d",
      "metadata": {
        "id": "0899971d"
      },
      "source": [
        "## 9. Tree Model: Random Forest\n",
        "\n",
        "\n"
      ]
    },
    {
      "cell_type": "code",
      "execution_count": 14,
      "id": "f2e288fb",
      "metadata": {
        "colab": {
          "base_uri": "https://localhost:8080/"
        },
        "id": "f2e288fb",
        "outputId": "d3eecae0-21ef-4a41-e125-941ade044b52"
      },
      "outputs": [
        {
          "output_type": "stream",
          "name": "stdout",
          "text": [
            "Random Forest PR AUC: 0.8703\n",
            "\n",
            "Classification report (threshold 0.5):\n",
            "              precision    recall  f1-score   support\n",
            "\n",
            "           0       1.00      1.00      1.00     56864\n",
            "           1       0.96      0.76      0.85        98\n",
            "\n",
            "    accuracy                           1.00     56962\n",
            "   macro avg       0.98      0.88      0.92     56962\n",
            "weighted avg       1.00      1.00      1.00     56962\n",
            "\n"
          ]
        }
      ],
      "source": [
        "from sklearn.ensemble import RandomForestClassifier\n",
        "\n",
        "rf = RandomForestClassifier(n_estimators=200, class_weight='balanced', n_jobs=-1, random_state=42)\n",
        "rf.fit(X_train, y_train)\n",
        "\n",
        "y_prob_rf = rf.predict_proba(X_test)[:,1]\n",
        "precision_rf, recall_rf, _ = precision_recall_curve(y_test, y_prob_rf)\n",
        "pr_auc_rf = auc(recall_rf, precision_rf)\n",
        "\n",
        "print('Random Forest PR AUC:', round(pr_auc_rf, 4))\n",
        "print('\\nClassification report (threshold 0.5):')\n",
        "print(classification_report(y_test, rf.predict(X_test)))"
      ]
    },
    {
      "cell_type": "markdown",
      "id": "e1df9922",
      "metadata": {
        "id": "e1df9922"
      },
      "source": [
        "## 10. Handling Imbalance: SMOTE + XGBoost\n"
      ]
    },
    {
      "cell_type": "code",
      "execution_count": 15,
      "id": "8382f8fc",
      "metadata": {
        "colab": {
          "base_uri": "https://localhost:8080/"
        },
        "id": "8382f8fc",
        "outputId": "a38a0708-1952-4fe8-9692-68a9a3ff34fa"
      },
      "outputs": [
        {
          "output_type": "stream",
          "name": "stderr",
          "text": [
            "/usr/local/lib/python3.11/dist-packages/xgboost/training.py:183: UserWarning: [12:27:06] WARNING: /workspace/src/learner.cc:738: \n",
            "Parameters: { \"use_label_encoder\" } are not used.\n",
            "\n",
            "  bst.update(dtrain, iteration=i, fobj=obj)\n"
          ]
        },
        {
          "output_type": "stream",
          "name": "stdout",
          "text": [
            "XGBoost (SMOTE) PR AUC: 0.8761\n",
            "\n",
            "Classification report (threshold 0.5):\n",
            "              precision    recall  f1-score   support\n",
            "\n",
            "           0       1.00      1.00      1.00     56864\n",
            "           1       0.79      0.86      0.82        98\n",
            "\n",
            "    accuracy                           1.00     56962\n",
            "   macro avg       0.90      0.93      0.91     56962\n",
            "weighted avg       1.00      1.00      1.00     56962\n",
            "\n"
          ]
        }
      ],
      "source": [
        "from imblearn.over_sampling import SMOTE\n",
        "import xgboost as xgb\n",
        "\n",
        "sm = SMOTE(random_state=42)\n",
        "X_res, y_res = sm.fit_resample(X_train, y_train)\n",
        "\n",
        "xgb_clf = xgb.XGBClassifier(n_estimators=200, use_label_encoder=False, eval_metric='logloss', n_jobs=-1, random_state=42)\n",
        "xgb_clf.fit(X_res, y_res)\n",
        "\n",
        "y_prob_xgb = xgb_clf.predict_proba(X_test)[:,1]\n",
        "precision_xgb, recall_xgb, _ = precision_recall_curve(y_test, y_prob_xgb)\n",
        "pr_auc_xgb = auc(recall_xgb, precision_xgb)\n",
        "\n",
        "print('XGBoost (SMOTE) PR AUC:', round(pr_auc_xgb, 4))\n",
        "print('\\nClassification report (threshold 0.5):')\n",
        "print(classification_report(y_test, xgb_clf.predict(X_test)))"
      ]
    },
    {
      "cell_type": "markdown",
      "id": "6790faff",
      "metadata": {
        "id": "6790faff"
      },
      "source": [
        "## 11. Results Summary\n",
        "\n",
        "Show the Model with the best results"
      ]
    },
    {
      "cell_type": "code",
      "execution_count": 16,
      "id": "e74f88bb",
      "metadata": {
        "colab": {
          "base_uri": "https://localhost:8080/"
        },
        "id": "e74f88bb",
        "outputId": "12c48072-a0df-4a8f-de40-1ed574a0b80a"
      },
      "outputs": [
        {
          "output_type": "stream",
          "name": "stdout",
          "text": [
            "Logistic Regression PR AUC = 0.7692\n",
            "Random Forest PR AUC = 0.8703\n",
            "XGBoost (SMOTE) PR AUC = 0.8761\n"
          ]
        }
      ],
      "source": [
        "results = {'Logistic Regression': pr_auc_lr, 'Random Forest': pr_auc_rf, 'XGBoost (SMOTE)': pr_auc_xgb}\n",
        "for k,v in results.items():\n",
        "    print(k, 'PR AUC =', round(v,4))"
      ]
    },
    {
      "cell_type": "markdown",
      "source": [
        "Final Thoughts: The evaluation results show that Logistic Regression achieved a PR AUC of 0.7692, while the Random Forest improved performance to 0.8703. The best results came from XGBoost with SMOTE oversampling, reaching a PR AUC of 0.8761"
      ],
      "metadata": {
        "id": "kpEFlVDdPCID"
      },
      "id": "kpEFlVDdPCID"
    }
  ],
  "metadata": {
    "colab": {
      "provenance": []
    },
    "language_info": {
      "name": "python"
    },
    "kernelspec": {
      "name": "python3",
      "display_name": "Python 3"
    }
  },
  "nbformat": 4,
  "nbformat_minor": 5
}